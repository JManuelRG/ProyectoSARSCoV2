{
  "nbformat": 4,
  "nbformat_minor": 0,
  "metadata": {
    "colab": {
      "provenance": [],
      "authorship_tag": "ABX9TyPWkvwa3kD98Q8fevvWaF7w",
      "include_colab_link": true
    },
    "kernelspec": {
      "name": "python3",
      "display_name": "Python 3"
    },
    "language_info": {
      "name": "python"
    },
    "widgets": {
      "application/vnd.jupyter.widget-state+json": {
        "c0283d39086c4f6793390b04d875f8f4": {
          "model_module": "@jupyter-widgets/controls",
          "model_name": "TextModel",
          "model_module_version": "1.5.0",
          "state": {
            "_dom_classes": [],
            "_model_module": "@jupyter-widgets/controls",
            "_model_module_version": "1.5.0",
            "_model_name": "TextModel",
            "_view_count": null,
            "_view_module": "@jupyter-widgets/controls",
            "_view_module_version": "1.5.0",
            "_view_name": "TextView",
            "continuous_update": true,
            "description": "Función f(x):",
            "description_tooltip": null,
            "disabled": false,
            "layout": "IPY_MODEL_2cca5c32fef94f069f324221bd107df8",
            "placeholder": "​",
            "style": "IPY_MODEL_a568d485cce241ba85593933ea95aae2",
            "value": "6.4e-3-212179.3*(x-60)+26289.03*(x-60)**2+2.087174e30*(x-60)**3"
          }
        },
        "2cca5c32fef94f069f324221bd107df8": {
          "model_module": "@jupyter-widgets/base",
          "model_name": "LayoutModel",
          "model_module_version": "1.2.0",
          "state": {
            "_model_module": "@jupyter-widgets/base",
            "_model_module_version": "1.2.0",
            "_model_name": "LayoutModel",
            "_view_count": null,
            "_view_module": "@jupyter-widgets/base",
            "_view_module_version": "1.2.0",
            "_view_name": "LayoutView",
            "align_content": null,
            "align_items": null,
            "align_self": null,
            "border": null,
            "bottom": null,
            "display": null,
            "flex": null,
            "flex_flow": null,
            "grid_area": null,
            "grid_auto_columns": null,
            "grid_auto_flow": null,
            "grid_auto_rows": null,
            "grid_column": null,
            "grid_gap": null,
            "grid_row": null,
            "grid_template_areas": null,
            "grid_template_columns": null,
            "grid_template_rows": null,
            "height": null,
            "justify_content": null,
            "justify_items": null,
            "left": null,
            "margin": null,
            "max_height": null,
            "max_width": null,
            "min_height": null,
            "min_width": null,
            "object_fit": null,
            "object_position": null,
            "order": null,
            "overflow": null,
            "overflow_x": null,
            "overflow_y": null,
            "padding": null,
            "right": null,
            "top": null,
            "visibility": null,
            "width": null
          }
        },
        "a568d485cce241ba85593933ea95aae2": {
          "model_module": "@jupyter-widgets/controls",
          "model_name": "DescriptionStyleModel",
          "model_module_version": "1.5.0",
          "state": {
            "_model_module": "@jupyter-widgets/controls",
            "_model_module_version": "1.5.0",
            "_model_name": "DescriptionStyleModel",
            "_view_count": null,
            "_view_module": "@jupyter-widgets/base",
            "_view_module_version": "1.2.0",
            "_view_name": "StyleView",
            "description_width": ""
          }
        },
        "964b19f0a4594ad88b5d877112222611": {
          "model_module": "@jupyter-widgets/controls",
          "model_name": "TextModel",
          "model_module_version": "1.5.0",
          "state": {
            "_dom_classes": [],
            "_model_module": "@jupyter-widgets/controls",
            "_model_module_version": "1.5.0",
            "_model_name": "TextModel",
            "_view_count": null,
            "_view_module": "@jupyter-widgets/controls",
            "_view_module_version": "1.5.0",
            "_view_name": "TextView",
            "continuous_update": true,
            "description": "Límite inferior (a):",
            "description_tooltip": null,
            "disabled": false,
            "layout": "IPY_MODEL_ac2eb866ce0e4aab8aa06a8b99cc5138",
            "placeholder": "​",
            "style": "IPY_MODEL_f22a65079f8743abb8db9c68aec6b2b3",
            "value": "-200"
          }
        },
        "ac2eb866ce0e4aab8aa06a8b99cc5138": {
          "model_module": "@jupyter-widgets/base",
          "model_name": "LayoutModel",
          "model_module_version": "1.2.0",
          "state": {
            "_model_module": "@jupyter-widgets/base",
            "_model_module_version": "1.2.0",
            "_model_name": "LayoutModel",
            "_view_count": null,
            "_view_module": "@jupyter-widgets/base",
            "_view_module_version": "1.2.0",
            "_view_name": "LayoutView",
            "align_content": null,
            "align_items": null,
            "align_self": null,
            "border": null,
            "bottom": null,
            "display": null,
            "flex": null,
            "flex_flow": null,
            "grid_area": null,
            "grid_auto_columns": null,
            "grid_auto_flow": null,
            "grid_auto_rows": null,
            "grid_column": null,
            "grid_gap": null,
            "grid_row": null,
            "grid_template_areas": null,
            "grid_template_columns": null,
            "grid_template_rows": null,
            "height": null,
            "justify_content": null,
            "justify_items": null,
            "left": null,
            "margin": null,
            "max_height": null,
            "max_width": null,
            "min_height": null,
            "min_width": null,
            "object_fit": null,
            "object_position": null,
            "order": null,
            "overflow": null,
            "overflow_x": null,
            "overflow_y": null,
            "padding": null,
            "right": null,
            "top": null,
            "visibility": null,
            "width": null
          }
        },
        "f22a65079f8743abb8db9c68aec6b2b3": {
          "model_module": "@jupyter-widgets/controls",
          "model_name": "DescriptionStyleModel",
          "model_module_version": "1.5.0",
          "state": {
            "_model_module": "@jupyter-widgets/controls",
            "_model_module_version": "1.5.0",
            "_model_name": "DescriptionStyleModel",
            "_view_count": null,
            "_view_module": "@jupyter-widgets/base",
            "_view_module_version": "1.2.0",
            "_view_name": "StyleView",
            "description_width": ""
          }
        },
        "955972bb3a9446558303303c30fe6cbd": {
          "model_module": "@jupyter-widgets/controls",
          "model_name": "TextModel",
          "model_module_version": "1.5.0",
          "state": {
            "_dom_classes": [],
            "_model_module": "@jupyter-widgets/controls",
            "_model_module_version": "1.5.0",
            "_model_name": "TextModel",
            "_view_count": null,
            "_view_module": "@jupyter-widgets/controls",
            "_view_module_version": "1.5.0",
            "_view_name": "TextView",
            "continuous_update": true,
            "description": "Límite superior (b):",
            "description_tooltip": null,
            "disabled": false,
            "layout": "IPY_MODEL_ddf62fc403014ae0ac015c3fcce36fb6",
            "placeholder": "​",
            "style": "IPY_MODEL_52a0cbb7e622483bbd8b902cf6a62375",
            "value": "500"
          }
        },
        "ddf62fc403014ae0ac015c3fcce36fb6": {
          "model_module": "@jupyter-widgets/base",
          "model_name": "LayoutModel",
          "model_module_version": "1.2.0",
          "state": {
            "_model_module": "@jupyter-widgets/base",
            "_model_module_version": "1.2.0",
            "_model_name": "LayoutModel",
            "_view_count": null,
            "_view_module": "@jupyter-widgets/base",
            "_view_module_version": "1.2.0",
            "_view_name": "LayoutView",
            "align_content": null,
            "align_items": null,
            "align_self": null,
            "border": null,
            "bottom": null,
            "display": null,
            "flex": null,
            "flex_flow": null,
            "grid_area": null,
            "grid_auto_columns": null,
            "grid_auto_flow": null,
            "grid_auto_rows": null,
            "grid_column": null,
            "grid_gap": null,
            "grid_row": null,
            "grid_template_areas": null,
            "grid_template_columns": null,
            "grid_template_rows": null,
            "height": null,
            "justify_content": null,
            "justify_items": null,
            "left": null,
            "margin": null,
            "max_height": null,
            "max_width": null,
            "min_height": null,
            "min_width": null,
            "object_fit": null,
            "object_position": null,
            "order": null,
            "overflow": null,
            "overflow_x": null,
            "overflow_y": null,
            "padding": null,
            "right": null,
            "top": null,
            "visibility": null,
            "width": null
          }
        },
        "52a0cbb7e622483bbd8b902cf6a62375": {
          "model_module": "@jupyter-widgets/controls",
          "model_name": "DescriptionStyleModel",
          "model_module_version": "1.5.0",
          "state": {
            "_model_module": "@jupyter-widgets/controls",
            "_model_module_version": "1.5.0",
            "_model_name": "DescriptionStyleModel",
            "_view_count": null,
            "_view_module": "@jupyter-widgets/base",
            "_view_module_version": "1.2.0",
            "_view_name": "StyleView",
            "description_width": ""
          }
        },
        "c97f25e6bb8543808ac98e85aebe3ccd": {
          "model_module": "@jupyter-widgets/controls",
          "model_name": "ButtonModel",
          "model_module_version": "1.5.0",
          "state": {
            "_dom_classes": [],
            "_model_module": "@jupyter-widgets/controls",
            "_model_module_version": "1.5.0",
            "_model_name": "ButtonModel",
            "_view_count": null,
            "_view_module": "@jupyter-widgets/controls",
            "_view_module_version": "1.5.0",
            "_view_name": "ButtonView",
            "button_style": "",
            "description": "Graficar",
            "disabled": false,
            "icon": "",
            "layout": "IPY_MODEL_2b9111f20ff84c298791b0a7d5afdc8d",
            "style": "IPY_MODEL_8d5bffbc6f8d4b9c92b8111f9be0736e",
            "tooltip": ""
          }
        },
        "2b9111f20ff84c298791b0a7d5afdc8d": {
          "model_module": "@jupyter-widgets/base",
          "model_name": "LayoutModel",
          "model_module_version": "1.2.0",
          "state": {
            "_model_module": "@jupyter-widgets/base",
            "_model_module_version": "1.2.0",
            "_model_name": "LayoutModel",
            "_view_count": null,
            "_view_module": "@jupyter-widgets/base",
            "_view_module_version": "1.2.0",
            "_view_name": "LayoutView",
            "align_content": null,
            "align_items": null,
            "align_self": null,
            "border": null,
            "bottom": null,
            "display": null,
            "flex": null,
            "flex_flow": null,
            "grid_area": null,
            "grid_auto_columns": null,
            "grid_auto_flow": null,
            "grid_auto_rows": null,
            "grid_column": null,
            "grid_gap": null,
            "grid_row": null,
            "grid_template_areas": null,
            "grid_template_columns": null,
            "grid_template_rows": null,
            "height": null,
            "justify_content": null,
            "justify_items": null,
            "left": null,
            "margin": null,
            "max_height": null,
            "max_width": null,
            "min_height": null,
            "min_width": null,
            "object_fit": null,
            "object_position": null,
            "order": null,
            "overflow": null,
            "overflow_x": null,
            "overflow_y": null,
            "padding": null,
            "right": null,
            "top": null,
            "visibility": null,
            "width": null
          }
        },
        "8d5bffbc6f8d4b9c92b8111f9be0736e": {
          "model_module": "@jupyter-widgets/controls",
          "model_name": "ButtonStyleModel",
          "model_module_version": "1.5.0",
          "state": {
            "_model_module": "@jupyter-widgets/controls",
            "_model_module_version": "1.5.0",
            "_model_name": "ButtonStyleModel",
            "_view_count": null,
            "_view_module": "@jupyter-widgets/base",
            "_view_module_version": "1.2.0",
            "_view_name": "StyleView",
            "button_color": null,
            "font_weight": ""
          }
        },
        "f1c97565cd5c486292f21bce5f627fb0": {
          "model_module": "@jupyter-widgets/controls",
          "model_name": "TextModel",
          "model_module_version": "1.5.0",
          "state": {
            "_dom_classes": [],
            "_model_module": "@jupyter-widgets/controls",
            "_model_module_version": "1.5.0",
            "_model_name": "TextModel",
            "_view_count": null,
            "_view_module": "@jupyter-widgets/controls",
            "_view_module_version": "1.5.0",
            "_view_name": "TextView",
            "continuous_update": true,
            "description": "Función f(x):",
            "description_tooltip": null,
            "disabled": false,
            "layout": "IPY_MODEL_06796c421a4a4356909d64f1b5145839",
            "placeholder": "​",
            "style": "IPY_MODEL_fc13f1878c324b74831ce2b3035fada3",
            "value": "6.4e-3-212179.3*(x-60)+26289.03*(x-60)**2+2.087174e30*(x-60)**3"
          }
        },
        "06796c421a4a4356909d64f1b5145839": {
          "model_module": "@jupyter-widgets/base",
          "model_name": "LayoutModel",
          "model_module_version": "1.2.0",
          "state": {
            "_model_module": "@jupyter-widgets/base",
            "_model_module_version": "1.2.0",
            "_model_name": "LayoutModel",
            "_view_count": null,
            "_view_module": "@jupyter-widgets/base",
            "_view_module_version": "1.2.0",
            "_view_name": "LayoutView",
            "align_content": null,
            "align_items": null,
            "align_self": null,
            "border": null,
            "bottom": null,
            "display": null,
            "flex": null,
            "flex_flow": null,
            "grid_area": null,
            "grid_auto_columns": null,
            "grid_auto_flow": null,
            "grid_auto_rows": null,
            "grid_column": null,
            "grid_gap": null,
            "grid_row": null,
            "grid_template_areas": null,
            "grid_template_columns": null,
            "grid_template_rows": null,
            "height": null,
            "justify_content": null,
            "justify_items": null,
            "left": null,
            "margin": null,
            "max_height": null,
            "max_width": null,
            "min_height": null,
            "min_width": null,
            "object_fit": null,
            "object_position": null,
            "order": null,
            "overflow": null,
            "overflow_x": null,
            "overflow_y": null,
            "padding": null,
            "right": null,
            "top": null,
            "visibility": null,
            "width": null
          }
        },
        "fc13f1878c324b74831ce2b3035fada3": {
          "model_module": "@jupyter-widgets/controls",
          "model_name": "DescriptionStyleModel",
          "model_module_version": "1.5.0",
          "state": {
            "_model_module": "@jupyter-widgets/controls",
            "_model_module_version": "1.5.0",
            "_model_name": "DescriptionStyleModel",
            "_view_count": null,
            "_view_module": "@jupyter-widgets/base",
            "_view_module_version": "1.2.0",
            "_view_name": "StyleView",
            "description_width": ""
          }
        },
        "6a29f2afbb6f4f23baa37121b58ad2d0": {
          "model_module": "@jupyter-widgets/controls",
          "model_name": "TextModel",
          "model_module_version": "1.5.0",
          "state": {
            "_dom_classes": [],
            "_model_module": "@jupyter-widgets/controls",
            "_model_module_version": "1.5.0",
            "_model_name": "TextModel",
            "_view_count": null,
            "_view_module": "@jupyter-widgets/controls",
            "_view_module_version": "1.5.0",
            "_view_name": "TextView",
            "continuous_update": true,
            "description": "a:",
            "description_tooltip": null,
            "disabled": false,
            "layout": "IPY_MODEL_f847aefbcb204945b747b43d535cef83",
            "placeholder": "​",
            "style": "IPY_MODEL_d6e94f44d34d4704a8f814290b7f30dd",
            "value": "300"
          }
        },
        "f847aefbcb204945b747b43d535cef83": {
          "model_module": "@jupyter-widgets/base",
          "model_name": "LayoutModel",
          "model_module_version": "1.2.0",
          "state": {
            "_model_module": "@jupyter-widgets/base",
            "_model_module_version": "1.2.0",
            "_model_name": "LayoutModel",
            "_view_count": null,
            "_view_module": "@jupyter-widgets/base",
            "_view_module_version": "1.2.0",
            "_view_name": "LayoutView",
            "align_content": null,
            "align_items": null,
            "align_self": null,
            "border": null,
            "bottom": null,
            "display": null,
            "flex": null,
            "flex_flow": null,
            "grid_area": null,
            "grid_auto_columns": null,
            "grid_auto_flow": null,
            "grid_auto_rows": null,
            "grid_column": null,
            "grid_gap": null,
            "grid_row": null,
            "grid_template_areas": null,
            "grid_template_columns": null,
            "grid_template_rows": null,
            "height": null,
            "justify_content": null,
            "justify_items": null,
            "left": null,
            "margin": null,
            "max_height": null,
            "max_width": null,
            "min_height": null,
            "min_width": null,
            "object_fit": null,
            "object_position": null,
            "order": null,
            "overflow": null,
            "overflow_x": null,
            "overflow_y": null,
            "padding": null,
            "right": null,
            "top": null,
            "visibility": null,
            "width": null
          }
        },
        "d6e94f44d34d4704a8f814290b7f30dd": {
          "model_module": "@jupyter-widgets/controls",
          "model_name": "DescriptionStyleModel",
          "model_module_version": "1.5.0",
          "state": {
            "_model_module": "@jupyter-widgets/controls",
            "_model_module_version": "1.5.0",
            "_model_name": "DescriptionStyleModel",
            "_view_count": null,
            "_view_module": "@jupyter-widgets/base",
            "_view_module_version": "1.2.0",
            "_view_name": "StyleView",
            "description_width": ""
          }
        },
        "a5a77c8f84304d6fab2d6d4a24df5a12": {
          "model_module": "@jupyter-widgets/controls",
          "model_name": "TextModel",
          "model_module_version": "1.5.0",
          "state": {
            "_dom_classes": [],
            "_model_module": "@jupyter-widgets/controls",
            "_model_module_version": "1.5.0",
            "_model_name": "TextModel",
            "_view_count": null,
            "_view_module": "@jupyter-widgets/controls",
            "_view_module_version": "1.5.0",
            "_view_name": "TextView",
            "continuous_update": true,
            "description": "b:",
            "description_tooltip": null,
            "disabled": false,
            "layout": "IPY_MODEL_dec4acc2111d4d9183705ba1a3309fa5",
            "placeholder": "​",
            "style": "IPY_MODEL_bde750a62dd64687a93586722578d93f",
            "value": "400"
          }
        },
        "dec4acc2111d4d9183705ba1a3309fa5": {
          "model_module": "@jupyter-widgets/base",
          "model_name": "LayoutModel",
          "model_module_version": "1.2.0",
          "state": {
            "_model_module": "@jupyter-widgets/base",
            "_model_module_version": "1.2.0",
            "_model_name": "LayoutModel",
            "_view_count": null,
            "_view_module": "@jupyter-widgets/base",
            "_view_module_version": "1.2.0",
            "_view_name": "LayoutView",
            "align_content": null,
            "align_items": null,
            "align_self": null,
            "border": null,
            "bottom": null,
            "display": null,
            "flex": null,
            "flex_flow": null,
            "grid_area": null,
            "grid_auto_columns": null,
            "grid_auto_flow": null,
            "grid_auto_rows": null,
            "grid_column": null,
            "grid_gap": null,
            "grid_row": null,
            "grid_template_areas": null,
            "grid_template_columns": null,
            "grid_template_rows": null,
            "height": null,
            "justify_content": null,
            "justify_items": null,
            "left": null,
            "margin": null,
            "max_height": null,
            "max_width": null,
            "min_height": null,
            "min_width": null,
            "object_fit": null,
            "object_position": null,
            "order": null,
            "overflow": null,
            "overflow_x": null,
            "overflow_y": null,
            "padding": null,
            "right": null,
            "top": null,
            "visibility": null,
            "width": null
          }
        },
        "bde750a62dd64687a93586722578d93f": {
          "model_module": "@jupyter-widgets/controls",
          "model_name": "DescriptionStyleModel",
          "model_module_version": "1.5.0",
          "state": {
            "_model_module": "@jupyter-widgets/controls",
            "_model_module_version": "1.5.0",
            "_model_name": "DescriptionStyleModel",
            "_view_count": null,
            "_view_module": "@jupyter-widgets/base",
            "_view_module_version": "1.2.0",
            "_view_name": "StyleView",
            "description_width": ""
          }
        },
        "9da43aa22c4b4be3a49a5d15d5843f34": {
          "model_module": "@jupyter-widgets/controls",
          "model_name": "TextModel",
          "model_module_version": "1.5.0",
          "state": {
            "_dom_classes": [],
            "_model_module": "@jupyter-widgets/controls",
            "_model_module_version": "1.5.0",
            "_model_name": "TextModel",
            "_view_count": null,
            "_view_module": "@jupyter-widgets/controls",
            "_view_module_version": "1.5.0",
            "_view_name": "TextView",
            "continuous_update": true,
            "description": "Tolerancia:",
            "description_tooltip": null,
            "disabled": false,
            "layout": "IPY_MODEL_69ae8a6c6ffb4f59aab01f7e65459252",
            "placeholder": "​",
            "style": "IPY_MODEL_a29afeb3c17a4cd6bf7fc631aeebfc69",
            "value": "0.001"
          }
        },
        "69ae8a6c6ffb4f59aab01f7e65459252": {
          "model_module": "@jupyter-widgets/base",
          "model_name": "LayoutModel",
          "model_module_version": "1.2.0",
          "state": {
            "_model_module": "@jupyter-widgets/base",
            "_model_module_version": "1.2.0",
            "_model_name": "LayoutModel",
            "_view_count": null,
            "_view_module": "@jupyter-widgets/base",
            "_view_module_version": "1.2.0",
            "_view_name": "LayoutView",
            "align_content": null,
            "align_items": null,
            "align_self": null,
            "border": null,
            "bottom": null,
            "display": null,
            "flex": null,
            "flex_flow": null,
            "grid_area": null,
            "grid_auto_columns": null,
            "grid_auto_flow": null,
            "grid_auto_rows": null,
            "grid_column": null,
            "grid_gap": null,
            "grid_row": null,
            "grid_template_areas": null,
            "grid_template_columns": null,
            "grid_template_rows": null,
            "height": null,
            "justify_content": null,
            "justify_items": null,
            "left": null,
            "margin": null,
            "max_height": null,
            "max_width": null,
            "min_height": null,
            "min_width": null,
            "object_fit": null,
            "object_position": null,
            "order": null,
            "overflow": null,
            "overflow_x": null,
            "overflow_y": null,
            "padding": null,
            "right": null,
            "top": null,
            "visibility": null,
            "width": null
          }
        },
        "a29afeb3c17a4cd6bf7fc631aeebfc69": {
          "model_module": "@jupyter-widgets/controls",
          "model_name": "DescriptionStyleModel",
          "model_module_version": "1.5.0",
          "state": {
            "_model_module": "@jupyter-widgets/controls",
            "_model_module_version": "1.5.0",
            "_model_name": "DescriptionStyleModel",
            "_view_count": null,
            "_view_module": "@jupyter-widgets/base",
            "_view_module_version": "1.2.0",
            "_view_name": "StyleView",
            "description_width": ""
          }
        },
        "4bb86c1c27884ddfa4a1ed63ae9b36bd": {
          "model_module": "@jupyter-widgets/controls",
          "model_name": "TextModel",
          "model_module_version": "1.5.0",
          "state": {
            "_dom_classes": [],
            "_model_module": "@jupyter-widgets/controls",
            "_model_module_version": "1.5.0",
            "_model_name": "TextModel",
            "_view_count": null,
            "_view_module": "@jupyter-widgets/controls",
            "_view_module_version": "1.5.0",
            "_view_name": "TextView",
            "continuous_update": true,
            "description": "Máx. Iteraciones:",
            "description_tooltip": null,
            "disabled": false,
            "layout": "IPY_MODEL_72b44411cc814989b72908c5582c27d3",
            "placeholder": "​",
            "style": "IPY_MODEL_61994eab74214df9b31eac1e07c5c1d1",
            "value": "50"
          }
        },
        "72b44411cc814989b72908c5582c27d3": {
          "model_module": "@jupyter-widgets/base",
          "model_name": "LayoutModel",
          "model_module_version": "1.2.0",
          "state": {
            "_model_module": "@jupyter-widgets/base",
            "_model_module_version": "1.2.0",
            "_model_name": "LayoutModel",
            "_view_count": null,
            "_view_module": "@jupyter-widgets/base",
            "_view_module_version": "1.2.0",
            "_view_name": "LayoutView",
            "align_content": null,
            "align_items": null,
            "align_self": null,
            "border": null,
            "bottom": null,
            "display": null,
            "flex": null,
            "flex_flow": null,
            "grid_area": null,
            "grid_auto_columns": null,
            "grid_auto_flow": null,
            "grid_auto_rows": null,
            "grid_column": null,
            "grid_gap": null,
            "grid_row": null,
            "grid_template_areas": null,
            "grid_template_columns": null,
            "grid_template_rows": null,
            "height": null,
            "justify_content": null,
            "justify_items": null,
            "left": null,
            "margin": null,
            "max_height": null,
            "max_width": null,
            "min_height": null,
            "min_width": null,
            "object_fit": null,
            "object_position": null,
            "order": null,
            "overflow": null,
            "overflow_x": null,
            "overflow_y": null,
            "padding": null,
            "right": null,
            "top": null,
            "visibility": null,
            "width": null
          }
        },
        "61994eab74214df9b31eac1e07c5c1d1": {
          "model_module": "@jupyter-widgets/controls",
          "model_name": "DescriptionStyleModel",
          "model_module_version": "1.5.0",
          "state": {
            "_model_module": "@jupyter-widgets/controls",
            "_model_module_version": "1.5.0",
            "_model_name": "DescriptionStyleModel",
            "_view_count": null,
            "_view_module": "@jupyter-widgets/base",
            "_view_module_version": "1.2.0",
            "_view_name": "StyleView",
            "description_width": ""
          }
        },
        "6d7f8c2f8fcd4464b53b3f545b413d0a": {
          "model_module": "@jupyter-widgets/controls",
          "model_name": "ButtonModel",
          "model_module_version": "1.5.0",
          "state": {
            "_dom_classes": [],
            "_model_module": "@jupyter-widgets/controls",
            "_model_module_version": "1.5.0",
            "_model_name": "ButtonModel",
            "_view_count": null,
            "_view_module": "@jupyter-widgets/controls",
            "_view_module_version": "1.5.0",
            "_view_name": "ButtonView",
            "button_style": "",
            "description": "Calcular",
            "disabled": false,
            "icon": "",
            "layout": "IPY_MODEL_8eea4f2585674cc8a5865d62fb524eca",
            "style": "IPY_MODEL_8ffc63e688c442dcaf970e2e89014941",
            "tooltip": ""
          }
        },
        "8eea4f2585674cc8a5865d62fb524eca": {
          "model_module": "@jupyter-widgets/base",
          "model_name": "LayoutModel",
          "model_module_version": "1.2.0",
          "state": {
            "_model_module": "@jupyter-widgets/base",
            "_model_module_version": "1.2.0",
            "_model_name": "LayoutModel",
            "_view_count": null,
            "_view_module": "@jupyter-widgets/base",
            "_view_module_version": "1.2.0",
            "_view_name": "LayoutView",
            "align_content": null,
            "align_items": null,
            "align_self": null,
            "border": null,
            "bottom": null,
            "display": null,
            "flex": null,
            "flex_flow": null,
            "grid_area": null,
            "grid_auto_columns": null,
            "grid_auto_flow": null,
            "grid_auto_rows": null,
            "grid_column": null,
            "grid_gap": null,
            "grid_row": null,
            "grid_template_areas": null,
            "grid_template_columns": null,
            "grid_template_rows": null,
            "height": null,
            "justify_content": null,
            "justify_items": null,
            "left": null,
            "margin": null,
            "max_height": null,
            "max_width": null,
            "min_height": null,
            "min_width": null,
            "object_fit": null,
            "object_position": null,
            "order": null,
            "overflow": null,
            "overflow_x": null,
            "overflow_y": null,
            "padding": null,
            "right": null,
            "top": null,
            "visibility": null,
            "width": null
          }
        },
        "8ffc63e688c442dcaf970e2e89014941": {
          "model_module": "@jupyter-widgets/controls",
          "model_name": "ButtonStyleModel",
          "model_module_version": "1.5.0",
          "state": {
            "_model_module": "@jupyter-widgets/controls",
            "_model_module_version": "1.5.0",
            "_model_name": "ButtonStyleModel",
            "_view_count": null,
            "_view_module": "@jupyter-widgets/base",
            "_view_module_version": "1.2.0",
            "_view_name": "StyleView",
            "button_color": null,
            "font_weight": ""
          }
        }
      }
    }
  },
  "cells": [
    {
      "cell_type": "markdown",
      "metadata": {
        "id": "view-in-github",
        "colab_type": "text"
      },
      "source": [
        "<a href=\"https://colab.research.google.com/github/JManuelRG/ProyectoSARSCoV2/blob/main/Biseccion.ipynb\" target=\"_parent\"><img src=\"https://colab.research.google.com/assets/colab-badge.svg\" alt=\"Open In Colab\"/></a>"
      ]
    },
    {
      "cell_type": "markdown",
      "source": [
        "# Bisección"
      ],
      "metadata": {
        "id": "7O4S6ETpVKmy"
      }
    },
    {
      "cell_type": "markdown",
      "source": [
        "# Lectura de la función\n",
        "Instrucciones:\n",
        "1. Ejecutar la celda no. 1.\n",
        "2. Introducir la función a resolver de la forma:\n",
        "$$f(x)=0$$\n",
        "\n",
        "\n",
        "| Operación   | Operador    |\n",
        "| :---        |        ---: |\n",
        "| Suma        | +           |\n",
        "| Resta       | -           |\n",
        "| Multiplicación | *        |\n",
        "| División       | /        |\n",
        "| Exponenciación | **        |\n",
        "| Exponencial|exp()|\n",
        "|logaritmo natural| log()|\n",
        "|logaritmo base p|log(x, p)|\n",
        "|seno|sin(x)|\n",
        "|coseno|cos(x)|\n",
        "\n",
        "\n",
        " Más funciones matemáticas en sympy:\n",
        " https://docs.sympy.org/latest/index.html\n",
        "\n",
        "\n",
        "3. Introducir los límites de graficación\n",
        "4. Generar el gráfico"
      ],
      "metadata": {
        "id": "IqasgTf7VM23"
      }
    },
    {
      "cell_type": "code",
      "source": [
        "import numpy as np\n",
        "import matplotlib.pyplot as plt\n",
        "from sympy import *\n",
        "from sympy import symbols, lambdify, sympify\n",
        "import ipywidgets as widgets\n",
        "from IPython.display import display, clear_output\n",
        "\n",
        "# Función para evaluar la expresión simbólica\n",
        "def eval_function(expression, x_val):\n",
        "    x = symbols('x')\n",
        "    return lambdify(x, expression, 'numpy')(x_val)\n",
        "\n",
        "# Función para graficar la función\n",
        "def plot_function(expr_str, a, b):\n",
        "    try:\n",
        "        expression = sympify(expr_str)\n",
        "        a = float(a)\n",
        "        b = float(b)\n",
        "\n",
        "        x = np.linspace(a, b, 400)\n",
        "        y = eval_function(expression, x)\n",
        "\n",
        "        plt.figure(figsize=(10, 6))\n",
        "        plt.plot(x, y, label=f'f(x) = {expr_str}')\n",
        "        plt.title('Gráfico de la función')\n",
        "        plt.xlabel('x')\n",
        "        plt.ylabel('f(x)')\n",
        "        plt.grid(True)\n",
        "        plt.legend()\n",
        "        plt.show()\n",
        "    except ValueError as e:\n",
        "        print(f\"Error: {str(e)}\")\n",
        "    except Exception as e:\n",
        "        print(f\"Error en la evaluación de la función: {str(e)}\")\n",
        "\n",
        "# Widgets de entrada\n",
        "func_input = widgets.Text(value='x**2', description='Función f(x):')\n",
        "a_input = widgets.Text(value='-10', description='Límite inferior (a):')\n",
        "b_input = widgets.Text(value='10', description='Límite superior (b):')\n",
        "plot_button = widgets.Button(description=\"Graficar\")\n",
        "\n",
        "# Función para manejar el evento de clic del botón\n",
        "def on_plot_button_clicked(b):\n",
        "    clear_output(wait=True)\n",
        "    display(func_input, a_input, b_input, plot_button)\n",
        "    plot_function(func_input.value, a_input.value, b_input.value)\n",
        "\n",
        "# Asignar el controlador de eventos al botón\n",
        "plot_button.on_click(on_plot_button_clicked)\n",
        "\n",
        "# Mostrar los widgets\n",
        "display(func_input, a_input, b_input, plot_button)\n"
      ],
      "metadata": {
        "colab": {
          "base_uri": "https://localhost:8080/",
          "height": 689,
          "referenced_widgets": [
            "c0283d39086c4f6793390b04d875f8f4",
            "2cca5c32fef94f069f324221bd107df8",
            "a568d485cce241ba85593933ea95aae2",
            "964b19f0a4594ad88b5d877112222611",
            "ac2eb866ce0e4aab8aa06a8b99cc5138",
            "f22a65079f8743abb8db9c68aec6b2b3",
            "955972bb3a9446558303303c30fe6cbd",
            "ddf62fc403014ae0ac015c3fcce36fb6",
            "52a0cbb7e622483bbd8b902cf6a62375",
            "c97f25e6bb8543808ac98e85aebe3ccd",
            "2b9111f20ff84c298791b0a7d5afdc8d",
            "8d5bffbc6f8d4b9c92b8111f9be0736e"
          ]
        },
        "id": "3mXHxZpmVJc6",
        "outputId": "3dd6b1d2-96c3-46f2-8045-ac60c2edeb1e"
      },
      "execution_count": 5,
      "outputs": [
        {
          "output_type": "display_data",
          "data": {
            "text/plain": [
              "Text(value='6.4e-3-212179.3*(x-60)+26289.03*(x-60)**2+2.087174e30*(x-60)**3', description='Función f(x):')"
            ],
            "application/vnd.jupyter.widget-view+json": {
              "version_major": 2,
              "version_minor": 0,
              "model_id": "c0283d39086c4f6793390b04d875f8f4"
            }
          },
          "metadata": {}
        },
        {
          "output_type": "display_data",
          "data": {
            "text/plain": [
              "Text(value='-200', description='Límite inferior (a):')"
            ],
            "application/vnd.jupyter.widget-view+json": {
              "version_major": 2,
              "version_minor": 0,
              "model_id": "964b19f0a4594ad88b5d877112222611"
            }
          },
          "metadata": {}
        },
        {
          "output_type": "display_data",
          "data": {
            "text/plain": [
              "Text(value='500', description='Límite superior (b):')"
            ],
            "application/vnd.jupyter.widget-view+json": {
              "version_major": 2,
              "version_minor": 0,
              "model_id": "955972bb3a9446558303303c30fe6cbd"
            }
          },
          "metadata": {}
        },
        {
          "output_type": "display_data",
          "data": {
            "text/plain": [
              "Button(description='Graficar', style=ButtonStyle())"
            ],
            "application/vnd.jupyter.widget-view+json": {
              "version_major": 2,
              "version_minor": 0,
              "model_id": "c97f25e6bb8543808ac98e85aebe3ccd"
            }
          },
          "metadata": {}
        },
        {
          "output_type": "display_data",
          "data": {
            "text/plain": [
              "<Figure size 1000x600 with 1 Axes>"
            ],
            "image/png": "[encoded data removed]"
          },
          "metadata": {}
        }
      ]
    },
    {
      "cell_type": "markdown",
      "source": [
        "# Método de Bisección"
      ],
      "metadata": {
        "id": "M1MaIYEhV66J"
      }
    },
    {
      "cell_type": "code",
      "source": [
        "import numpy as np\n",
        "import matplotlib.pyplot as plt\n",
        "from sympy import symbols, lambdify, sympify\n",
        "import ipywidgets as widgets\n",
        "from IPython.display import display, clear_output\n",
        "from sympy import *\n",
        "\n",
        "# Función para evaluar la expresión simbólica\n",
        "def eval_function(expression, x_val):\n",
        "    x = symbols('x')\n",
        "    return lambdify(x, expression, 'numpy')(x_val)\n",
        "\n",
        "# Implementación del método de bisección\n",
        "def biseccion(expression, a, b, tol, max_iter):\n",
        "    resultados = []\n",
        "    x = symbols('x')\n",
        "    f = lambdify(x, expression, 'numpy')\n",
        "\n",
        "    if f(a) * f(b) >= 0:\n",
        "        raise ValueError(\"f(a) y f(b) deben tener signos opuestos\")\n",
        "    c = a\n",
        "    for i in range(max_iter):\n",
        "        c = (a + b) / 2\n",
        "        resultados.append((i, a, b, c, f(c)))\n",
        "        if f(c) == 0 or (b - a) / 2 < tol:\n",
        "            break\n",
        "        if f(c) * f(a) < 0:\n",
        "            b = c\n",
        "        else:\n",
        "            a = c\n",
        "    return c, resultados\n",
        "\n",
        "# Función para actualizar la gráfica y la tabla\n",
        "def calcular_raiz(expr_str, a, b, tol, max_iter):\n",
        "    try:\n",
        "        expression = sympify(expr_str)\n",
        "        a = float(a)\n",
        "        b = float(b)\n",
        "        tol = float(tol)\n",
        "        max_iter = int(max_iter)\n",
        "\n",
        "        raiz, resultados = biseccion(expression, a, b, tol, max_iter)\n",
        "\n",
        "        # Actualizar tabla\n",
        "        fig, ax = plt.subplots(figsize=(10, 6))\n",
        "        x = np.linspace(a, b, 400)\n",
        "        y = eval_function(expression, x)\n",
        "        ax.plot(x, y, label=\"f(x)\")\n",
        "        ax.axhline(0, color='black', linewidth=0.5)\n",
        "        ax.axvline(raiz, color='r', linestyle='--', label=f'Raíz aprox: {raiz:.6f}')\n",
        "        ax.legend()\n",
        "        ax.tick_params(axis='both', labelsize=16)\n",
        "        ax.set_title('Método de Bisección', fontsize=18)\n",
        "        ax.set_xlabel('x', fontsize=16)\n",
        "        ax.set_ylabel('f(x)', fontsize=16)\n",
        "\n",
        "        # Añadir texto que marque la solución\n",
        "        ax.text(raiz, 0, f'  x = {raiz:.6f}', fontsize=16, verticalalignment='bottom', color='red')\n",
        "\n",
        "        plt.show()\n",
        "\n",
        "        # Mostrar resultados en tabla\n",
        "        display_resultados(resultados)\n",
        "\n",
        "    except ValueError as e:\n",
        "        print(f\"Error: {str(e)}\")\n",
        "    except Exception as e:\n",
        "        print(f\"Error en la evaluación de la función: {str(e)}\")\n",
        "\n",
        "def display_resultados(resultados):\n",
        "    from IPython.display import HTML, display\n",
        "    html = \"<table><tr><th>Iteración</th><th>a</th><th>b</th><th>c</th><th>f(c)</th></tr>\"\n",
        "    for res in resultados:\n",
        "        html += f\"<tr><td>{res[0]}</td><td>{res[1]:.6f}</td><td>{res[2]:.6f}</td><td>{res[3]:.6f}</td><td>{res[4]:.6f}</td></tr>\"\n",
        "    html += \"</table>\"\n",
        "    display(HTML(html))\n",
        "\n",
        "# Widgets de entrada\n",
        "func_input = widgets.Text(value='x**3 - x - 2', description='Función f(x):')\n",
        "a_input = widgets.Text(value='-3', description='a:')\n",
        "b_input = widgets.Text(value='3', description='b:')\n",
        "tol_input = widgets.Text(value='0.001', description='Tolerancia:')\n",
        "max_iter_input = widgets.Text(value='50', description='Máx. Iteraciones:')\n",
        "calc_button = widgets.Button(description=\"Calcular\")\n",
        "\n",
        "# Función para manejar el evento de clic del botón\n",
        "def on_calc_button_clicked(b):\n",
        "    clear_output(wait=True)\n",
        "    display(func_input, a_input, b_input, tol_input, max_iter_input, calc_button)\n",
        "    calcular_raiz(func_input.value, a_input.value, b_input.value, tol_input.value, max_iter_input.value)\n",
        "\n",
        "# Asignar el controlador de eventos al botón\n",
        "calc_button.on_click(on_calc_button_clicked)\n",
        "\n",
        "# Mostrar los widgets\n",
        "display(func_input, a_input, b_input, tol_input, max_iter_input, calc_button)\n"
      ],
      "metadata": {
        "colab": {
          "base_uri": "https://localhost:8080/",
          "height": 221,
          "referenced_widgets": [
            "f1c97565cd5c486292f21bce5f627fb0",
            "06796c421a4a4356909d64f1b5145839",
            "fc13f1878c324b74831ce2b3035fada3",
            "6a29f2afbb6f4f23baa37121b58ad2d0",
            "f847aefbcb204945b747b43d535cef83",
            "d6e94f44d34d4704a8f814290b7f30dd",
            "a5a77c8f84304d6fab2d6d4a24df5a12",
            "dec4acc2111d4d9183705ba1a3309fa5",
            "bde750a62dd64687a93586722578d93f",
            "9da43aa22c4b4be3a49a5d15d5843f34",
            "69ae8a6c6ffb4f59aab01f7e65459252",
            "a29afeb3c17a4cd6bf7fc631aeebfc69",
            "4bb86c1c27884ddfa4a1ed63ae9b36bd",
            "72b44411cc814989b72908c5582c27d3",
            "61994eab74214df9b31eac1e07c5c1d1",
            "6d7f8c2f8fcd4464b53b3f545b413d0a",
            "8eea4f2585674cc8a5865d62fb524eca",
            "8ffc63e688c442dcaf970e2e89014941"
          ]
        },
        "id": "0kYM7JOFV9IG",
        "outputId": "151fdf81-d988-462d-d913-861bdcf79356"
      },
      "execution_count": 3,
      "outputs": [
        {
          "output_type": "display_data",
          "data": {
            "text/plain": [
              "Text(value='6.4e-3-212179.3*(x-60)+26289.03*(x-60)**2+2.087174e30*(x-60)**3', description='Función f(x):')"
            ],
            "application/vnd.jupyter.widget-view+json": {
              "version_major": 2,
              "version_minor": 0,
              "model_id": "f1c97565cd5c486292f21bce5f627fb0"
            }
          },
          "metadata": {}
        },
        {
          "output_type": "display_data",
          "data": {
            "text/plain": [
              "Text(value='300', description='a:')"
            ],
            "application/vnd.jupyter.widget-view+json": {
              "version_major": 2,
              "version_minor": 0,
              "model_id": "6a29f2afbb6f4f23baa37121b58ad2d0"
            }
          },
          "metadata": {}
        },
        {
          "output_type": "display_data",
          "data": {
            "text/plain": [
              "Text(value='400', description='b:')"
            ],
            "application/vnd.jupyter.widget-view+json": {
              "version_major": 2,
              "version_minor": 0,
              "model_id": "a5a77c8f84304d6fab2d6d4a24df5a12"
            }
          },
          "metadata": {}
        },
        {
          "output_type": "display_data",
          "data": {
            "text/plain": [
              "Text(value='0.001', description='Tolerancia:')"
            ],
            "application/vnd.jupyter.widget-view+json": {
              "version_major": 2,
              "version_minor": 0,
              "model_id": "9da43aa22c4b4be3a49a5d15d5843f34"
            }
          },
          "metadata": {}
        },
        {
          "output_type": "display_data",
          "data": {
            "text/plain": [
              "Text(value='50', description='Máx. Iteraciones:')"
            ],
            "application/vnd.jupyter.widget-view+json": {
              "version_major": 2,
              "version_minor": 0,
              "model_id": "4bb86c1c27884ddfa4a1ed63ae9b36bd"
            }
          },
          "metadata": {}
        },
        {
          "output_type": "display_data",
          "data": {
            "text/plain": [
              "Button(description='Calcular', style=ButtonStyle())"
            ],
            "application/vnd.jupyter.widget-view+json": {
              "version_major": 2,
              "version_minor": 0,
              "model_id": "6d7f8c2f8fcd4464b53b3f545b413d0a"
            }
          },
          "metadata": {}
        },
        {
          "output_type": "stream",
          "name": "stdout",
          "text": [
            "Error: f(a) y f(b) deben tener signos opuestos\n"
          ]
        }
      ]
    },
    {
      "cell_type": "code",
      "source": [],
      "metadata": {
        "id": "ojiHOe-k0zTB"
      },
      "execution_count": null,
      "outputs": []
    }
  ]
}